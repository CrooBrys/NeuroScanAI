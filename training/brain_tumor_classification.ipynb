{
 "cells": [
  {
   "cell_type": "markdown",
   "metadata": {},
   "source": [
    "**Imports**"
   ]
  },
  {
   "cell_type": "code",
   "execution_count": 4,
   "metadata": {},
   "outputs": [
    {
     "name": "stdout",
     "output_type": "stream",
     "text": [
      "The autoreload extension is already loaded. To reload it, use:\n",
      "  %reload_ext autoreload\n"
     ]
    }
   ],
   "source": [
    "%load_ext autoreload\n",
    "%autoreload 2\n",
    "from data_preprocessing import preprocess_data\n",
    "from data_augmentation import balance_with_augmentation\n",
    "from feature_extraction import get_feature_extractor\n",
    "from model_training import train_model\n",
    "from model_evaluation import evaluate_model\n",
    "from config import MODELS\n",
    "import warnings\n",
    "warnings.filterwarnings(\"ignore\", category=UserWarning)"
   ]
  },
  {
   "cell_type": "markdown",
   "metadata": {},
   "source": [
    "**Preprocess Info**"
   ]
  },
  {
   "cell_type": "code",
   "execution_count": null,
   "metadata": {},
   "outputs": [],
   "source": [
    "model_name = MODELS[0]  \n",
    "X_train, X_test, y_train, y_test, class_names = preprocess_data(model_name, verbose=True)\n",
    "trained_models = {}"
   ]
  },
  {
   "cell_type": "markdown",
   "metadata": {},
   "source": [
    "**ResNet50 Training**"
   ]
  },
  {
   "cell_type": "code",
   "execution_count": null,
   "metadata": {},
   "outputs": [],
   "source": [
    "model = get_feature_extractor(model_name)\n",
    "model = train_model(model, model_name, X_train, y_train)\n",
    "\n",
    "trained_models[model_name] = {\n",
    "    \"model\": model,\n",
    "    \"X_test\": X_test,\n",
    "    \"y_test\": y_test,\n",
    "    \"class_names\": class_names\n",
    "}\n",
    "\n",
    "print(f\"{model_name} training complete!\")"
   ]
  },
  {
   "cell_type": "markdown",
   "metadata": {},
   "source": [
    "**VGG16 Training**"
   ]
  },
  {
   "cell_type": "code",
   "execution_count": null,
   "metadata": {},
   "outputs": [],
   "source": [
    "model_name = MODELS[1]  \n",
    "\n",
    "X_train, X_test, y_train, y_test, class_names = preprocess_data(model_name, verbose=False)\n",
    "\n",
    "model = get_feature_extractor(model_name)\n",
    "model = train_model(model, model_name, X_train, y_train)\n",
    "\n",
    "trained_models[model_name] = {\n",
    "    \"model\": model,\n",
    "    \"X_test\": X_test,\n",
    "    \"y_test\": y_test,\n",
    "    \"class_names\": class_names\n",
    "}\n",
    "\n",
    "print(f\"{model_name} training complete!\")"
   ]
  },
  {
   "cell_type": "markdown",
   "metadata": {},
   "source": [
    "**EfficientNetB0 Training**"
   ]
  },
  {
   "cell_type": "code",
   "execution_count": null,
   "metadata": {},
   "outputs": [],
   "source": [
    "model_name = MODELS[2]  \n",
    "\n",
    "X_train, X_test, y_train, y_test, class_names = preprocess_data(model_name, verbose=False)\n",
    "\n",
    "model = get_feature_extractor(model_name)\n",
    "model = train_model(model, model_name, X_train, y_train)\n",
    "\n",
    "trained_models[model_name] = {\n",
    "    \"model\": model,\n",
    "    \"X_test\": X_test,\n",
    "    \"y_test\": y_test,\n",
    "    \"class_names\": class_names\n",
    "}\n",
    "\n",
    "print(f\"{model_name} training complete!\")"
   ]
  },
  {
   "cell_type": "markdown",
   "metadata": {},
   "source": [
    "**InceptionV3 Training**"
   ]
  },
  {
   "cell_type": "code",
   "execution_count": null,
   "metadata": {},
   "outputs": [],
   "source": [
    "model_name = MODELS[3]  \n",
    "\n",
    "X_train, X_test, y_train, y_test, class_names = preprocess_data(model_name, verbose=False)\n",
    "\n",
    "model = get_feature_extractor(model_name)\n",
    "model = train_model(model, model_name, X_train, y_train)\n",
    "\n",
    "trained_models[model_name] = {\n",
    "    \"model\": model,\n",
    "    \"X_test\": X_test,\n",
    "    \"y_test\": y_test,\n",
    "    \"class_names\": class_names\n",
    "}\n",
    "\n",
    "print(f\"{model_name} training complete!\")"
   ]
  },
  {
   "cell_type": "markdown",
   "metadata": {},
   "source": [
    "**ResNet50 Evaluation**"
   ]
  },
  {
   "cell_type": "code",
   "execution_count": null,
   "metadata": {},
   "outputs": [],
   "source": [
    "model_name = MODELS[0] \n",
    "\n",
    "if model_name in trained_models:\n",
    "    print(f\"\\nEvaluating model: {model_name}\")\n",
    "    evaluate_model(\n",
    "        trained_models[model_name][\"model\"],\n",
    "        trained_models[model_name][\"X_test\"],\n",
    "        trained_models[model_name][\"y_test\"],\n",
    "        trained_models[model_name][\"class_names\"]\n",
    "    )\n",
    "else:\n",
    "    print(f\"Model {model_name} not found in trained_models.\")"
   ]
  },
  {
   "cell_type": "markdown",
   "metadata": {},
   "source": [
    "**VGG16 Evaluation**"
   ]
  },
  {
   "cell_type": "code",
   "execution_count": null,
   "metadata": {},
   "outputs": [],
   "source": [
    "model_name = MODELS[1] \n",
    "\n",
    "if model_name in trained_models:\n",
    "    print(f\"\\nEvaluating model: {model_name}\")\n",
    "    evaluate_model(\n",
    "        trained_models[model_name][\"model\"],\n",
    "        trained_models[model_name][\"X_test\"],\n",
    "        trained_models[model_name][\"y_test\"],\n",
    "        trained_models[model_name][\"class_names\"]\n",
    "    )\n",
    "else:\n",
    "    print(f\"Model {model_name} not found in trained_models.\")"
   ]
  },
  {
   "cell_type": "markdown",
   "metadata": {},
   "source": [
    "**EfficientNetB0 Evaluation**"
   ]
  },
  {
   "cell_type": "code",
   "execution_count": null,
   "metadata": {},
   "outputs": [],
   "source": [
    "model_name = MODELS[2] \n",
    "\n",
    "if model_name in trained_models:\n",
    "    print(f\"\\nEvaluating model: {model_name}\")\n",
    "    evaluate_model(\n",
    "        trained_models[model_name][\"model\"],\n",
    "        trained_models[model_name][\"X_test\"],\n",
    "        trained_models[model_name][\"y_test\"],\n",
    "        trained_models[model_name][\"class_names\"]\n",
    "    )\n",
    "else:\n",
    "    print(f\"Model {model_name} not found in trained_models.\")"
   ]
  },
  {
   "cell_type": "markdown",
   "metadata": {},
   "source": [
    "**InceptionV3 Evaluation**"
   ]
  },
  {
   "cell_type": "code",
   "execution_count": null,
   "metadata": {},
   "outputs": [],
   "source": [
    "model_name = MODELS[3] \n",
    "\n",
    "if model_name in trained_models:\n",
    "    print(f\"\\nEvaluating model: {model_name}\")\n",
    "    evaluate_model(\n",
    "        trained_models[model_name][\"model\"],\n",
    "        trained_models[model_name][\"X_test\"],\n",
    "        trained_models[model_name][\"y_test\"],\n",
    "        trained_models[model_name][\"class_names\"]\n",
    "    )\n",
    "else:\n",
    "    print(f\"Model {model_name} not found in trained_models.\")"
   ]
  }
 ],
 "metadata": {
  "kernelspec": {
   "display_name": "venv",
   "language": "python",
   "name": "python3"
  },
  "language_info": {
   "codemirror_mode": {
    "name": "ipython",
    "version": 3
   },
   "file_extension": ".py",
   "mimetype": "text/x-python",
   "name": "python",
   "nbconvert_exporter": "python",
   "pygments_lexer": "ipython3",
   "version": "3.11.9"
  }
 },
 "nbformat": 4,
 "nbformat_minor": 4
}
